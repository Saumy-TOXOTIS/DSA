{
  "cells": [
    {
      "cell_type": "markdown",
      "metadata": {},
      "source": [
        "# Bit Manipulation Interview Workbook\n"
      ]
    },
    {
      "cell_type": "markdown",
      "metadata": {},
      "source": [
        "Bit-level reasoning frequently unlocks elegant solutions to optimisation puzzles and number-theory questions.\n",
        "This notebook curates every bit-manipulation problem in the repository so you can revise the statement,\n",
        "walk through an example, understand the core insight, and study the associated C++ implementation in one place.\n"
      ]
    },
    {
      "cell_type": "markdown",
      "metadata": {},
      "source": [
        "## Bit Manipulation Fundamentals\n"
      ]
    },
    {
      "cell_type": "markdown",
      "metadata": {},
      "source": [
        "Master essential identities for toggling, counting, and checking bits\u2014building blocks for every other trick that follows.\n"
      ]
    },
    {
      "cell_type": "markdown",
      "metadata": {},
      "source": [
        "### Counting Set Bits Efficiently\n",
        "\n",
        "**Problem statement:** Given a non-negative integer n, return the number of set bits (1s) in its binary representation.\n",
        "\n",
        "**Example:**\n",
        "```\n",
        "n = 29\n",
        "Output: 4\n",
        "```\n",
        "**Explanation:** Repeatedly clearing the lowest set bit with `n & (n - 1)` counts how many ones appear without scanning every position individually.\n",
        "\n",
        "**Approach highlights:**\n",
        "* Initialise a counter to zero.\n",
        "* While n is positive, replace it with `n & (n - 1)` to drop the rightmost one bit.\n",
        "* Increment the counter on each iteration and return it once all bits are cleared.\n",
        "\n",
        "**Complexity:** Time O(popcount(n)), Space O(1).\n"
      ]
    },
    {
      "cell_type": "code",
      "execution_count": null,
      "metadata": {
        "language": "cpp"
      },
      "outputs": [],
      "source": [
        "#include <bits/stdc++.h>\n",
        "using namespace std;\n",
        "\n",
        "class Solution\n",
        "{\n",
        "public:\n",
        "    int setBitsCount(int n)\n",
        "    {\n",
        "        int count = 0;\n",
        "        while(n > 0)\n",
        "        {\n",
        "            n = n&(n - 1);\n",
        "            count++;\n",
        "        }\n",
        "        return count;\n",
        "    }\n",
        "};\n"
      ]
    },
    {
      "cell_type": "markdown",
      "metadata": {},
      "source": [
        "### Counting Bits from 0 to n\n",
        "\n",
        "**Problem statement:** For a given n, produce an array ans where ans[i] is the number of 1 bits in i for all 0 \u2264 i \u2264 n.\n",
        "\n",
        "**Example:**\n",
        "```\n",
        "n = 5\n",
        "Output: [0, 1, 1, 2, 1, 2]\n",
        "```\n",
        "**Explanation:** Iterating from 0 through n and applying Brian Kernighan's trick to each value fills the table of set-bit counts.\n",
        "\n",
        "**Approach highlights:**\n",
        "* Allocate an array of length n + 1.\n",
        "* For each integer i, copy it into a temporary variable and repeatedly clear the lowest set bit while counting removals.\n",
        "* Store the count in ans[i] before moving on to the next number.\n",
        "\n",
        "**Complexity:** Time O(n \u22c5 log n), Space O(n).\n"
      ]
    },
    {
      "cell_type": "code",
      "execution_count": null,
      "metadata": {
        "language": "cpp"
      },
      "outputs": [],
      "source": [
        "#include <bits/stdc++.h>\n",
        "using namespace std;\n",
        "\n",
        "class Solution\n",
        "{\n",
        "public:\n",
        "    vector<int> countBits(int n)\n",
        "    {\n",
        "        vector<int> ans(n + 1);\n",
        "        for(int i = 0;i <= n;i++)\n",
        "        {\n",
        "            int count = 0;\n",
        "            int temp = i;\n",
        "            while(temp > 0)\n",
        "            {\n",
        "                temp = temp&(temp - 1);\n",
        "                count++;\n",
        "            }\n",
        "            ans[i] = count;\n",
        "        }\n",
        "        return ans;\n",
        "    }\n",
        "};\n"
      ]
    },
    {
      "cell_type": "markdown",
      "metadata": {},
      "source": [
        "### Check if a Number is a Power of Two\n",
        "\n",
        "**Problem statement:** Return true if a signed integer n is a positive power of two and false otherwise.\n",
        "\n",
        "**Example:**\n",
        "```\n",
        "n = 16\n",
        "Output: true\n",
        "```\n",
        "**Explanation:** The implementation guards against non-positive input, computes the base-two logarithm, and checks whether shifting 1 by that exponent recreates n exactly.\n",
        "\n",
        "**Approach highlights:**\n",
        "* Reject zero and negative values immediately.\n",
        "* Compute floor(log2(n)) using the standard library.\n",
        "* Shift 1 left by the computed exponent and compare it with n to confirm it was an exact power of two.\n",
        "\n",
        "**Complexity:** Time O(1), Space O(1).\n"
      ]
    },
    {
      "cell_type": "code",
      "execution_count": null,
      "metadata": {
        "language": "cpp"
      },
      "outputs": [],
      "source": [
        "#include <bits/stdc++.h>\n",
        "using namespace std;\n",
        "\n",
        "class Solution\n",
        "{\n",
        "public:\n",
        "    bool isPowerOfTwo(int n)\n",
        "    {\n",
        "        if(n <= 0)\n",
        "        {\n",
        "            return false;\n",
        "        }\n",
        "        if(1<<((int)log2(n)) == n)\n",
        "        {\n",
        "            return true;\n",
        "        }\n",
        "        else\n",
        "        {\n",
        "            return false;\n",
        "        }\n",
        "    }\n",
        "};\n"
      ]
    },
    {
      "cell_type": "markdown",
      "metadata": {},
      "source": [
        "### Set the Rightmost Unset Bit\n",
        "\n",
        "**Problem statement:** Given an integer n, flip its lowest zero bit (the rightmost unset bit) to one and return the result.\n",
        "\n",
        "**Example:**\n",
        "```\n",
        "n = 10 (1010)\n",
        "Output: 11 (1011)\n",
        "```\n",
        "**Explanation:** Using `(n | (n + 1))` sets the lowest zero bit without disturbing higher bits because adding one carries precisely into that position.\n",
        "\n",
        "**Approach highlights:**\n",
        "* Observe that adding one to n propagates a carry up to the first zero bit.\n",
        "* Bitwise OR the original value with n + 1 so that the carry permanently sets that bit.\n",
        "* Return the updated integer.\n",
        "\n",
        "**Complexity:** Time O(1), Space O(1).\n"
      ]
    },
    {
      "cell_type": "code",
      "execution_count": null,
      "metadata": {
        "language": "cpp"
      },
      "outputs": [],
      "source": [
        "#include <bits/stdc++.h>\n",
        "using namespace std;\n",
        "\n",
        "class Solution\n",
        "{\n",
        "public:\n",
        "    int setRightmostUnsetBit(int n)\n",
        "    {\n",
        "        return (n|(n + 1));\n",
        "    }\n",
        "};\n"
      ]
    },
    {
      "cell_type": "markdown",
      "metadata": {},
      "source": [
        "### Unset the Rightmost Set Bit\n",
        "\n",
        "**Problem statement:** Remove the lowest set bit of an integer n and return the resulting value.\n",
        "\n",
        "**Example:**\n",
        "```\n",
        "n = 12 (1100)\n",
        "Output: 8 (1000)\n",
        "```\n",
        "**Explanation:** The classic identity `n & (n - 1)` clears the least-significant one because subtracting one flips the trailing zeros and that one bit, and the AND operation drops it.\n",
        "\n",
        "**Approach highlights:**\n",
        "* Subtract one from n to flip the lowest set bit and all lower positions.\n",
        "* Bitwise AND the original and decremented values so only the higher bits remain.\n",
        "* Return the masked result.\n",
        "\n",
        "**Complexity:** Time O(1), Space O(1).\n"
      ]
    },
    {
      "cell_type": "code",
      "execution_count": null,
      "metadata": {
        "language": "cpp"
      },
      "outputs": [],
      "source": [
        "#include <bits/stdc++.h>\n",
        "using namespace std;\n",
        "\n",
        "class Solution\n",
        "{\n",
        "public:\n",
        "    int unsetRightmostSetBit(int n)\n",
        "    {\n",
        "        return (n&(n - 1));\n",
        "    }\n",
        "};\n"
      ]
    },
    {
      "cell_type": "markdown",
      "metadata": {},
      "source": [
        "### Minimum Bit Flips Between Integers\n",
        "\n",
        "**Problem statement:** Compute the minimum number of bit positions that must change to transform start into goal.\n",
        "\n",
        "**Example:**\n",
        "```\n",
        "start = 10 (1010), goal = 7 (0111)\n",
        "Output: 3\n",
        "```\n",
        "**Explanation:** XOR highlights exactly the positions that differ, and counting the set bits in that XOR reveals how many flips are required.\n",
        "\n",
        "**Approach highlights:**\n",
        "* Take the XOR of start and goal to obtain the difference mask.\n",
        "* Repeatedly clear the lowest set bit of the mask, counting how many removals occur.\n",
        "* Return the accumulated count as the minimum flips.\n",
        "\n",
        "**Complexity:** Time O(popcount(start \u2295 goal)), Space O(1).\n"
      ]
    },
    {
      "cell_type": "code",
      "execution_count": null,
      "metadata": {
        "language": "cpp"
      },
      "outputs": [],
      "source": [
        "#include <bits/stdc++.h>\n",
        "using namespace std;\n",
        "\n",
        "class Solution\n",
        "{\n",
        "public:\n",
        "    int minBitFlips(int start, int goal)\n",
        "    {\n",
        "        int XOR = start^goal;\n",
        "        int ans = 0;\n",
        "        while(XOR > 0)\n",
        "        {\n",
        "            XOR = XOR&(XOR - 1);\n",
        "            ans++;\n",
        "        }\n",
        "        return ans;\n",
        "    }\n",
        "};\n"
      ]
    },
    {
      "cell_type": "markdown",
      "metadata": {},
      "source": [
        "## XOR Patterns and Unique Elements\n"
      ]
    },
    {
      "cell_type": "markdown",
      "metadata": {},
      "source": [
        "XOR's cancellation property makes it perfect for isolating unique values and computing prefix parities.\n"
      ]
    },
    {
      "cell_type": "markdown",
      "metadata": {},
      "source": [
        "### Single Number via XOR Folding\n",
        "\n",
        "**Problem statement:** In an array where every element appears twice except for one number, return the non-duplicated value.\n",
        "\n",
        "**Example:**\n",
        "```\n",
        "nums = [4, 1, 2, 1, 2]\n",
        "Output: 4\n",
        "```\n",
        "**Explanation:** Pairwise duplicates cancel under XOR, so folding the entire array with XOR leaves only the single element.\n",
        "\n",
        "**Approach highlights:**\n",
        "* Initialise the answer with the first element.\n",
        "* Iterate through the remaining values, XORing each into the running result.\n",
        "* Return the final accumulator.\n",
        "\n",
        "**Complexity:** Time O(n), Space O(1).\n"
      ]
    },
    {
      "cell_type": "code",
      "execution_count": null,
      "metadata": {
        "language": "cpp"
      },
      "outputs": [],
      "source": [
        "#include <bits/stdc++.h>\n",
        "using namespace std;\n",
        "\n",
        "class Solution\n",
        "{\n",
        "public:\n",
        "    int singleNumber(vector<int>& nums)\n",
        "    {\n",
        "        int single = nums[0];\n",
        "        for(int i = 1;i < nums.size();i++)\n",
        "        {\n",
        "            single = (single^nums[i]);\n",
        "        }\n",
        "        return single;\n",
        "    }\n",
        "};\n"
      ]
    },
    {
      "cell_type": "markdown",
      "metadata": {},
      "source": [
        "### Find Two Numbers Appearing Single Times\n",
        "\n",
        "**Problem statement:** Given an array in which exactly two values appear an odd number of times and every other value appears an even number of times, identify the two unique values.\n",
        "\n",
        "**Example:**\n",
        "```\n",
        "arr = [4, 2, 4, 5, 2, 3, 3, 1]\n",
        "Output: 5 and 1\n",
        "```\n",
        "**Explanation:** XORing all values yields x \u2295 y where x and y are the odd occurrences. Isolating the rightmost set bit of that XOR splits the array into two groups so each unique number can be recovered individually.\n",
        "\n",
        "**Approach highlights:**\n",
        "* XOR all numbers to obtain the combined value x \u2295 y.\n",
        "* Extract the rightmost set bit using `xor_sum & -xor_sum` to distinguish between the two targets.\n",
        "* Partition the original array based on that bit and XOR within each partition to recover the isolated numbers.\n",
        "\n",
        "**Complexity:** Time O(n), Space O(1).\n"
      ]
    },
    {
      "cell_type": "code",
      "execution_count": null,
      "metadata": {
        "language": "cpp"
      },
      "outputs": [],
      "source": [
        "#include <bits/stdc++.h>\n",
        "using namespace std;\n",
        "\n",
        "vector<int> findTwoOddAppearingNumbers(const vector<int>& arr)\n",
        "{\n",
        "    int xor_sum = 0;\n",
        "    for(int num : arr)\n",
        "    {\n",
        "        xor_sum ^= num;\n",
        "    }\n",
        "    // 2. Find a \"distinguishing feature\". This is any bit that is set in xor_sum.\n",
        "    // We choose the rightmost set bit. This bit is 1 for one target and 0 for the other.\n",
        "    // The trick `x & -x` isolates the rightmost set bit, -xor_sum is the 2's complement, which is ~xor_sum + 1. This operation flips all the bits up to and including the rightmost '1', leaving only that bit set.\n",
        "    int set_bit = xor_sum&-xor_sum;\n",
        "    int x = 0;\n",
        "    int y = 0;\n",
        "    // 3. Filter and reduce. Partition the original array virtually based on the distinguishing feature.\n",
        "    // All pairs will be in the same partition, cancelling out.\n",
        "    // The two target numbers (x and y) will be in different partitions.\n",
        "    for(int num : arr)\n",
        "    {\n",
        "        if((num & set_bit) != 0)\n",
        "        {\n",
        "            // This number has the distinguishing feature. Belongs to x's group.\n",
        "            x ^= num;\n",
        "        }\n",
        "        else\n",
        "        {\n",
        "            // This number does not have the feature. Belongs to y's group.\n",
        "            y ^= num;\n",
        "        }\n",
        "    }\n",
        "    return {x, y};\n",
        "}\n",
        "\n",
        "int main()\n",
        "{\n",
        "    vector<int> arr = {4,2,4,5,2,3,3,1};\n",
        "    vector<int> result = findTwoOddAppearingNumbers(arr);\n",
        "    cout<<\"The two numbers appearing an odd number of times are: \"<<result[0]<<\" and \"<<result[1]<<endl;return 0;\n",
        "}\n"
      ]
    },
    {
      "cell_type": "markdown",
      "metadata": {},
      "source": [
        "### XOR of a Range\n",
        "\n",
        "**Problem statement:** Return the XOR of every integer in the inclusive range [l, r].\n",
        "\n",
        "**Example:**\n",
        "```\n",
        "l = 3, r = 9\n",
        "Output: 2\n",
        "```\n",
        "**Explanation:** The XOR of 0 through n follows a repeating pattern with period four. Leveraging that prefix pattern allows the range XOR to be computed as prefix(r) \u2295 prefix(l-1).\n",
        "\n",
        "**Approach highlights:**\n",
        "* Implement a helper that returns the XOR of all numbers from 0 to n using the modulo-4 pattern.\n",
        "* Evaluate the helper at r and at l - 1.\n",
        "* XOR the two prefix results to obtain the answer for [l, r].\n",
        "\n",
        "**Complexity:** Time O(1), Space O(1).\n"
      ]
    },
    {
      "cell_type": "code",
      "execution_count": null,
      "metadata": {
        "language": "cpp"
      },
      "outputs": [],
      "source": [
        "#include <bits/stdc++.h>\n",
        "using namespace std;\n",
        "\n",
        "int findXOR(int n)\n",
        "{\n",
        "    int mod = n % 4;\n",
        "    // If n is a multiple of 4\n",
        "    if(mod == 0)\n",
        "    {\n",
        "        return n;\n",
        "    }\n",
        "    // If n % 4 gives remainder 1\n",
        "    else if(mod == 1)\n",
        "    {\n",
        "        return 1;\n",
        "    }\n",
        "    // If n % 4 gives remainder 2\n",
        "    else if(mod == 2)\n",
        "    {\n",
        "        return n + 1;\n",
        "    }\n",
        "    // If n % 4 gives remainder 3\n",
        "    else if(mod == 3)\n",
        "    {\n",
        "        return 0;\n",
        "    }\n",
        "}\n",
        "\n",
        "// Function to return the XOR of elements\n",
        "// from the range [l, r]\n",
        "int findXOR(int l,int r)\n",
        "{\n",
        "    return (findXOR(l - 1)^findXOR(r));\n",
        "}\n"
      ]
    },
    {
      "cell_type": "markdown",
      "metadata": {},
      "source": [
        "### Enumerate All Subsets with Bit Masks\n",
        "\n",
        "**Problem statement:** Generate every subset of an integer array.\n",
        "\n",
        "**Example:**\n",
        "```\n",
        "nums = [1, 2, 3]\n",
        "Output: [[], [1], [2], [1, 2], [3], [1, 3], [2, 3], [1, 2, 3]]\n",
        "```\n",
        "**Explanation:** Treat each subset as a bit mask between 0 and 2^n - 1; checking whether bit j is set decides if nums[j] belongs to the subset.\n",
        "\n",
        "**Approach highlights:**\n",
        "* Compute the total number of subsets as 1 << n where n is the array length.\n",
        "* Iterate over all bit masks from 0 up to but excluding 2^n.\n",
        "* For each mask, inspect every bit and push the corresponding element when the bit is set.\n",
        "\n",
        "**Complexity:** Time O(n \u22c5 2^n), Space O(n \u22c5 2^n) to store all subsets.\n"
      ]
    },
    {
      "cell_type": "code",
      "execution_count": null,
      "metadata": {
        "language": "cpp"
      },
      "outputs": [],
      "source": [
        "#include <bits/stdc++.h>\n",
        "using namespace std;\n",
        "\n",
        "class Solution\n",
        "{\n",
        "public:\n",
        "    vector<vector<int>> subsets(vector<int>& nums)\n",
        "    {\n",
        "        vector<vector<int>> ans;\n",
        "        int n = nums.size();\n",
        "        int totalSubsets = 1<<n;\n",
        "        for(int i = 0;i < totalSubsets;i++)\n",
        "        {\n",
        "            vector<int> curSubset;\n",
        "            for(int j = 0;j < n;j++)\n",
        "            {\n",
        "                if((i>>j)&1)\n",
        "                {\n",
        "                    curSubset.push_back(nums[j]);\n",
        "                }\n",
        "            }\n",
        "            ans.push_back(curSubset);\n",
        "        }\n",
        "        return ans;\n",
        "    }\n",
        "};\n"
      ]
    },
    {
      "cell_type": "markdown",
      "metadata": {},
      "source": [
        "## Bitwise Arithmetic\n"
      ]
    },
    {
      "cell_type": "markdown",
      "metadata": {},
      "source": [
        "Shift-and-add strategies eliminate expensive arithmetic operators while carefully handling overflow and sign rules.\n"
      ]
    },
    {
      "cell_type": "markdown",
      "metadata": {},
      "source": [
        "### Add Two Integers Without the + Operator\n",
        "\n",
        "**Problem statement:** Return the sum of two integers a and b without using the + or - operators.\n",
        "\n",
        "**Example:**\n",
        "```\n",
        "a = 5, b = 7\n",
        "Output: 12\n",
        "```\n",
        "**Explanation:** XOR adds the bits without carry, while (a & b) << 1 computes the carry bits. Repeating until the carry disappears yields the final sum.\n",
        "\n",
        "**Approach highlights:**\n",
        "* Loop while the carry b is non-zero.\n",
        "* Compute the partial sum with XOR and the carry with AND shifted left by one.\n",
        "* Assign the partial sum back to a and the shifted carry back to b until the carry becomes zero.\n",
        "\n",
        "**Complexity:** Time O(w) for w-bit integers, Space O(1).\n"
      ]
    },
    {
      "cell_type": "code",
      "execution_count": null,
      "metadata": {
        "language": "cpp"
      },
      "outputs": [],
      "source": [
        "#include <bits/stdc++.h>\n",
        "using namespace std;\n",
        "\n",
        "class Solution\n",
        "{\n",
        "public:\n",
        "    int getSum(int a,int b)\n",
        "    {\n",
        "        while(b != 0)\n",
        "        {\n",
        "            unsigned int carry = a&b;\n",
        "            a = a^b;\n",
        "            b = carry<<1;\n",
        "        }\n",
        "        return a;\n",
        "    }\n",
        "};\n"
      ]
    },
    {
      "cell_type": "markdown",
      "metadata": {},
      "source": [
        "### Divide Two Integers Without Overflow\n",
        "\n",
        "**Problem statement:** Perform integer division dividend / divisor without using the division operator, truncating toward zero and guarding against overflow.\n",
        "\n",
        "**Example:**\n",
        "```\n",
        "dividend = 43, divisor = -8\n",
        "Output: -5\n",
        "```\n",
        "**Explanation:** By repeatedly doubling the divisor with left shifts until it would exceed the remaining dividend, the algorithm subtracts large chunks in logarithmic steps while tracking the quotient with matching multiples.\n",
        "\n",
        "**Approach highlights:**\n",
        "* Handle the overflow case where dividend is INT_MIN and divisor is -1 by returning INT_MAX.\n",
        "* Determine the sign of the result and work with absolute values stored in 64-bit temporaries.\n",
        "* While the remaining dividend is at least the divisor, shift the divisor left until it would overshoot, subtract it, and accumulate the corresponding multiple in the quotient.\n",
        "* Apply the computed sign to the quotient before returning.\n",
        "\n",
        "**Complexity:** Time O(log(|dividend|)), Space O(1).\n"
      ]
    },
    {
      "cell_type": "code",
      "execution_count": null,
      "metadata": {
        "language": "cpp"
      },
      "outputs": [],
      "source": [
        "#include <bits/stdc++.h>\n",
        "using namespace std;\n",
        "\n",
        "class Solution\n",
        "{\n",
        "public:\n",
        "    int divide(int dividend, int divisor)\n",
        "    {\n",
        "        if(dividend == INT_MIN && divisor == -1)\n",
        "        {\n",
        "            return INT_MAX;\n",
        "        }\n",
        "        bool is_negative = (dividend < 0) ^ (divisor < 0);\n",
        "        long long abs_dividend = abs((long long)dividend);\n",
        "        long long abs_divisor = abs((long long)divisor);\n",
        "        long long quotient = 0;\n",
        "        while(abs_dividend >= abs_divisor)\n",
        "        {\n",
        "            long long temp_divisor = abs_divisor;\n",
        "            long long multiple = 1;\n",
        "            while(abs_dividend >= (temp_divisor << 1))\n",
        "            {\n",
        "                temp_divisor <<= 1;\n",
        "                multiple <<= 1;\n",
        "            }\n",
        "            abs_dividend -= temp_divisor;\n",
        "            quotient += multiple;\n",
        "        }\n",
        "        return is_negative ? -quotient : quotient;\n",
        "    }\n",
        "};\n"
      ]
    },
    {
      "cell_type": "markdown",
      "metadata": {},
      "source": [
        "## Bitset-Powered Number Theory\n"
      ]
    },
    {
      "cell_type": "markdown",
      "metadata": {},
      "source": [
        "Dense bitsets model primality flags compactly, enabling fast sieves and factor generation.\n"
      ]
    },
    {
      "cell_type": "markdown",
      "metadata": {},
      "source": [
        "### Count Primes with a Bitset Sieve\n",
        "\n",
        "**Problem statement:** Given n, count how many prime numbers are strictly less than n using a memory-efficient bitset.\n",
        "\n",
        "**Example:**\n",
        "```\n",
        "n = 10\n",
        "Output: 4\n",
        "```\n",
        "**Explanation:** The sieve marks composite numbers by toggling bits in a packed array; unmarked positions correspond to primes.\n",
        "\n",
        "**Approach highlights:**\n",
        "* Initialise a bitset large enough to represent odd numbers up to n.\n",
        "* Iterate through potential primes and mark their multiples as composite by setting the associated bits.\n",
        "* Count the indices that remain unmarked to obtain the number of primes.\n",
        "\n",
        "**Complexity:** Time O(n log log n), Space O(n / 32).\n"
      ]
    },
    {
      "cell_type": "code",
      "execution_count": null,
      "metadata": {
        "language": "cpp"
      },
      "outputs": [],
      "source": [
        "#include <bits/stdc++.h>\n",
        "using namespace std;\n",
        "\n",
        "class Solution\n",
        "{\n",
        "public:\n",
        "    // Why 32? Because we are working on 32-bits integers\n",
        "    int countPrimes(int n)\n",
        "    {\n",
        "        if(n < 2)\n",
        "        {\n",
        "            return 0;\n",
        "        }\n",
        "        vector<int> isPrime(n/32 + 2,0);\n",
        "        for(long long i = 2;i*i < n;++i) \n",
        "        {\n",
        "            int idx = i/32;\n",
        "            int pos = i%32;\n",
        "            if((isPrime[idx]&(1<<pos)) == 0)\n",
        "            {\n",
        "                for(long long j = i*i;j < n;j += i)\n",
        "                {\n",
        "                    int j_idx = j / 32;\n",
        "                    int j_pos = j % 32;\n",
        "                    isPrime[j_idx] = isPrime[j_idx]|(1 << j_pos);\n",
        "                }\n",
        "            }\n",
        "        }\n",
        "        int ans = 0;\n",
        "        for(int i = 2;i < n;i++)\n",
        "        {\n",
        "            int idx = i/32;\n",
        "            int pos = i%32;\n",
        "            if((isPrime[idx]&(1<<pos)) == 0)\n",
        "            {\n",
        "                ans++;\n",
        "            }\n",
        "        }\n",
        "        return ans;\n",
        "    }\n",
        "};\n"
      ]
    },
    {
      "cell_type": "markdown",
      "metadata": {},
      "source": [
        "### Prime Factors via Bitset Sieve\n",
        "\n",
        "**Problem statement:** Return the list of prime factors of an integer n in ascending order.\n",
        "\n",
        "**Example:**\n",
        "```\n",
        "n = 84\n",
        "Output: [2, 3, 7]\n",
        "```\n",
        "**Explanation:** After running a sieve to mark composites, scanning through the bitset reveals the primes that divide n exactly.\n",
        "\n",
        "**Approach highlights:**\n",
        "* Build a bitset that flags composite numbers up to n using the sieve of Eratosthenes.\n",
        "* Iterate through the integers from 2 to n and test whether each candidate remains marked as prime.\n",
        "* Append primes that divide n evenly to the answer list.\n",
        "\n",
        "**Complexity:** Time O(n log log n), Space O(n / 32).\n"
      ]
    },
    {
      "cell_type": "code",
      "execution_count": null,
      "metadata": {
        "language": "cpp"
      },
      "outputs": [],
      "source": [
        "#include <bits/stdc++.h>\n",
        "using namespace std;\n",
        "\n",
        "class Solution\n",
        "{\n",
        "public:\n",
        "    vector<int> primeFactors(int n)\n",
        "    {\n",
        "        vector<int> isPrime(n/32 + 2,0);\n",
        "        isPrime[0] = isPrime[0]|(1<<0);\n",
        "        isPrime[0] = isPrime[0]|(1<<1);\n",
        "        for(long long i = 2;i*i <= n;++i) \n",
        "        {\n",
        "            int idx = i/32;\n",
        "            int pos = i%32;\n",
        "            if((isPrime[idx]&(1<<pos)) == 0)\n",
        "            {\n",
        "                for(long long j = i*i;j <= n;j += i)\n",
        "                {\n",
        "                    int j_idx = j / 32;\n",
        "                    int j_pos = j % 32;\n",
        "                    isPrime[j_idx] = isPrime[j_idx]|(1 << j_pos);\n",
        "                }\n",
        "            }\n",
        "        }\n",
        "        vector<int> ans;\n",
        "        for(int i = 2;i <= n;i++)\n",
        "        {\n",
        "            int idx = i/32;\n",
        "            int pos = i%32;\n",
        "            if(((isPrime[idx]&(1<<pos)) == 0) && (n%i == 0))\n",
        "            {\n",
        "                ans.push_back(i);\n",
        "            }\n",
        "        }\n",
        "        return ans;\n",
        "    }\n",
        "};\n"
      ]
    },
    {
      "cell_type": "markdown",
      "metadata": {},
      "source": [
        "### Enumerate Divisors with Subset Products\n",
        "\n",
        "**Problem statement:** List every divisor of n by first collecting its prime factors and then multiplying subsets of those primes.\n",
        "\n",
        "**Example:**\n",
        "```\n",
        "n = 30\n",
        "Output: [1, 2, 3, 6, 5, 10, 15, 30]\n",
        "```\n",
        "**Explanation:** The routine identifies the prime factors of n using a sieve-backed bitset and then treats each subset of the factors as a divisor by multiplying the selected primes together.\n",
        "\n",
        "**Approach highlights:**\n",
        "* Run a sieve to capture prime numbers up to n inside a bit-packed array.\n",
        "* Gather the primes that divide n exactly and store them in a vector.\n",
        "* Iterate over all bit masks from 0 to 2^k - 1 (where k is the number of prime factors) and multiply the chosen primes to generate each divisor.\n",
        "* Collect the generated products; to handle repeated prime powers you would include the prime multiple times.\n",
        "\n",
        "**Complexity:** Time O(n log log n + 2^k), Space O(k).\n"
      ]
    },
    {
      "cell_type": "code",
      "execution_count": null,
      "metadata": {
        "language": "cpp"
      },
      "outputs": [],
      "source": [
        "#include <bits/stdc++.h>\n",
        "using namespace std;\n",
        "\n",
        "class Solution\n",
        "{\n",
        "public:\n",
        "    vector<int> allDivisors(int n)\n",
        "    {\n",
        "        vector<int> isPrime(n/32 + 2,0);\n",
        "        isPrime[0] = isPrime[0]|(1<<0);\n",
        "        isPrime[0] = isPrime[0]|(1<<1);\n",
        "        for(long long i = 2;i*i <= n;++i) \n",
        "        {\n",
        "            int idx = i/32;\n",
        "            int pos = i%32;\n",
        "            if((isPrime[idx]&(1<<pos)) == 0)\n",
        "            {\n",
        "                for(long long j = i*i;j <= n;j += i)\n",
        "                {\n",
        "                    int j_idx = j / 32;\n",
        "                    int j_pos = j % 32;\n",
        "                    isPrime[j_idx] = isPrime[j_idx]|(1 << j_pos);\n",
        "                }\n",
        "            }\n",
        "        }\n",
        "        vector<int> primeFactors;\n",
        "        for(int i = 2;i <= n;i++)\n",
        "        {\n",
        "            int idx = i/32;\n",
        "            int pos = i%32;\n",
        "            if(((isPrime[idx]&(1<<pos)) == 0) && (n%i == 0))\n",
        "            {\n",
        "                primeFactors.push_back(i);\n",
        "            }\n",
        "        }\n",
        "        vector<int> divisors;\n",
        "        int totalDivisors = primeFactors.size();\n",
        "        int totalSubsets = 1<<totalDivisors;\n",
        "        for(int i = 0;i < totalSubsets;i++)\n",
        "        {\n",
        "            int multiple = 1;\n",
        "            for(int j = 0;j < totalDivisors;j++)\n",
        "            {\n",
        "                if((i>>j)&1)\n",
        "                {\n",
        "                    multiple = multiple*primeFactors[j];\n",
        "                }\n",
        "            }\n",
        "            divisors.push_back(multiple);\n",
        "        }\n",
        "        return divisors;\n",
        "    }\n",
        "};\n"
      ]
    }
  ],
  "metadata": {},
  "nbformat": 4,
  "nbformat_minor": 5
}